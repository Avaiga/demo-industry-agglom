{
 "cells": [
  {
   "cell_type": "code",
   "execution_count": null,
   "metadata": {},
   "outputs": [],
   "source": [
    "import pandas as pd\n",
    "import numpy as np\n",
    "from pathlib import Path\n",
    "import plotly.express as px\n",
    "import sys\n",
    "\n",
    "PROJECT_DIR = Path.cwd().parent\n",
    "DATA_DIR = PROJECT_DIR / \"data\"\n",
    "if str(PROJECT_DIR) not in sys.path:\n",
    "    sys.path.append(str(PROJECT_DIR))\n",
    "\n",
    "from data.data import get_data_df, get_metadata_df"
   ]
  },
  {
   "cell_type": "code",
   "execution_count": null,
   "metadata": {},
   "outputs": [],
   "source": [
    "df = get_data_df()\n",
    "metadata_df = get_metadata_df()"
   ]
  },
  {
   "cell_type": "code",
   "execution_count": null,
   "metadata": {},
   "outputs": [],
   "source": [
    "df"
   ]
  },
  {
   "cell_type": "code",
   "execution_count": null,
   "metadata": {},
   "outputs": [],
   "source": [
    "target_id = df.IBRC_Geo_ID.cat.categories[0]\n",
    "target_naics = df[df.IBRC_Geo_ID == target_id][\"NAICS Code\"].cat.categories[0]\n",
    "target_df = df.loc[(df.IBRC_Geo_ID == target_id) & (df[\"NAICS Code\"] == target_naics), :]\n",
    "px.line(target_df, x=\"Year\", y=\"PA-LQ_Data\", color=\"PA-LQ_Code_Description\",)"
   ]
  },
  {
   "cell_type": "code",
   "execution_count": null,
   "metadata": {},
   "outputs": [],
   "source": [
    "# CLQ/PA-LQ is geometric mean? Yes\n",
    "from statistics import geometric_mean\n",
    "for key, grp in target_df.groupby(by=\"Year\", observed=True):\n",
    "    print(geometric_mean([grp.loc[grp[\"PA-LQ_Code\"]==s, \"PA-LQ_Data\"].values.item() for s in {\"100\", \"300\", \"400\", \"500\"}]), end=\"\\t\")\n",
    "    print(grp.loc[grp[\"PA-LQ_Code\"] == \"200\", \"PA-LQ_Data\"].values.item())"
   ]
  },
  {
   "cell_type": "code",
   "execution_count": null,
   "metadata": {},
   "outputs": [],
   "source": [
    "import requests\n",
    "counties = requests.get(\"https://raw.githubusercontent.com/plotly/datasets/master/geojson-counties-fips.json\").json()"
   ]
  },
  {
   "cell_type": "code",
   "execution_count": null,
   "metadata": {},
   "outputs": [],
   "source": [
    "# which counties have white spaces?\n",
    "df[df.IBRC_Geo_ID.str.contains(\" \")].IBRC_Geo_ID.cat.remove_unused_categories().value_counts()"
   ]
  },
  {
   "cell_type": "code",
   "execution_count": null,
   "metadata": {},
   "outputs": [],
   "source": [
    "# length of each id, without whitespaces\n",
    "df.IBRC_Geo_ID.drop_duplicates().str.strip().str.len().value_counts()"
   ]
  },
  {
   "cell_type": "code",
   "execution_count": null,
   "metadata": {},
   "outputs": [],
   "source": [
    "# we should be able to strip the trailing white space for IBRC_Geo_ID and add a leading 0\n",
    "print(df[df.IBRC_Geo_ID.str.contains(\" \")].iloc[0])\n",
    "next(filter(lambda county: county[\"id\"] == \"05019\", counties[\"features\"]))"
   ]
  },
  {
   "cell_type": "code",
   "execution_count": null,
   "metadata": {},
   "outputs": [],
   "source": [
    "# Fix IBRC_Geo_ID\n",
    "geoid_category_map = {old_cat: f\"0{old_cat[:-1]}\" for old_cat in df.IBRC_Geo_ID.dtype.categories if old_cat[-1] == \" \"}\n",
    "df[\"IBRC_Geo_ID\"] = df.IBRC_Geo_ID.cat.rename_categories(geoid_category_map)"
   ]
  },
  {
   "cell_type": "code",
   "execution_count": null,
   "metadata": {},
   "outputs": [],
   "source": [
    "# Enhance NAICS description\n",
    "import string\n",
    "naics_category_map = {old_cat: old_cat.lstrip(string.punctuation + string.whitespace) for old_cat in df[\"NAICS Description\"].cat.categories}\n",
    "df[\"NAICS Description\"] = df[\"NAICS Description\"].cat.rename_categories(naics_category_map)"
   ]
  },
  {
   "cell_type": "code",
   "execution_count": null,
   "metadata": {},
   "outputs": [],
   "source": [
    "# Set Year category as ordered\n",
    "df[\"Year\"] = df.Year.astype(pd.CategoricalDtype(sorted(df.Year.cat.categories), ordered=True))"
   ]
  },
  {
   "cell_type": "code",
   "execution_count": null,
   "metadata": {},
   "outputs": [],
   "source": [
    "for key, grp in df[df[\"PA-LQ_Code\"] == \"200\"].groupby(by=[\"NAICS Code\"], observed=True):\n",
    "    fig = px.choropleth_mapbox(\n",
    "        grp, geojson=counties, locations='IBRC_Geo_ID', color='PA-LQ_Data',\n",
    "        color_continuous_scale=\"Reds\",\n",
    "        # range_color=(0, 12),\n",
    "        mapbox_style=\"carto-positron\",\n",
    "        zoom=3, center = {\"lat\": 37.0902, \"lon\": -95.7129},\n",
    "        opacity=0.5,\n",
    "        animation_frame=\"Year\",\n",
    "    )\n",
    "    fig.update_layout(margin={\"r\":0,\"t\":0,\"l\":0,\"b\":0})\n",
    "    # fig.show()\n",
    "    break\n",
    "fig"
   ]
  },
  {
   "cell_type": "code",
   "execution_count": null,
   "metadata": {},
   "outputs": [],
   "source": [
    "geoid_to_county_name = df.drop_duplicates(\"IBRC_Geo_ID\").set_index(\"IBRC_Geo_ID\")[\"Description\"].to_dict()\n",
    "naics_code_to_industry_name = df.drop_duplicates(\"NAICS Code\").set_index(\"NAICS Code\")[\"NAICS Description\"].to_dict()\n",
    "lq_code_to_lq_name = df.drop_duplicates(\"PA-LQ_Code\").set_index(\"PA-LQ_Code\")[\"PA-LQ_Code_Description\"].to_dict()"
   ]
  }
 ],
 "metadata": {
  "kernelspec": {
   "display_name": ".venv-git-2024-02-27",
   "language": "python",
   "name": "python3"
  },
  "language_info": {
   "codemirror_mode": {
    "name": "ipython",
    "version": 3
   },
   "file_extension": ".py",
   "mimetype": "text/x-python",
   "name": "python",
   "nbconvert_exporter": "python",
   "pygments_lexer": "ipython3",
   "version": "3.10.10"
  }
 },
 "nbformat": 4,
 "nbformat_minor": 2
}
